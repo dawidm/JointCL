{
 "cells": [
  {
   "cell_type": "code",
   "execution_count": 6,
   "outputs": [],
   "source": [
    "import numpy as np"
   ],
   "metadata": {
    "collapsed": false,
    "ExecuteTime": {
     "end_time": "2023-08-18T10:23:07.502138977Z",
     "start_time": "2023-08-18T10:23:07.366616498Z"
    }
   }
  },
  {
   "cell_type": "code",
   "execution_count": 8,
   "metadata": {
    "collapsed": true,
    "ExecuteTime": {
     "end_time": "2023-08-18T10:23:46.356568484Z",
     "start_time": "2023-08-18T10:23:46.313206986Z"
    }
   },
   "outputs": [
    {
     "name": "stdout",
     "output_type": "stream",
     "text": [
      "0.7004152543804453\n",
      "0.011230992590173518\n"
     ]
    }
   ],
   "source": [
    "# cat stdout.log | grep \"Test Acc\"\n",
    "vast_res = \"\"\"Test Acc: 0.7203140333660452 F1:0.7207681468131826\n",
    "Test Acc: 0.7203140333660452 F1:0.7207681468131826\n",
    "Test Acc: 0.7154072620215898 F1:0.7138856908469001\n",
    "Test Acc: 0.7154072620215898 F1:0.7138856908469001\n",
    "Test Acc: 0.7016683022571149 F1:0.6959378425515395\n",
    "Test Acc: 0.6967615309126595 F1:0.6994983297022513\n",
    "Test Acc: 0.6849852796859667 F1:0.6845328686537592\n",
    "Test Acc: 0.6849852796859667 F1:0.6874871528671199\n",
    "Test Acc: 0.704612365063788 F1:0.706847260374746\n",
    "Test Acc: 0.704612365063788 F1:0.706847260374746\n",
    "Test Acc: 0.6947988223748773 F1:0.696176036483927\n",
    "Test Acc: 0.6947988223748773 F1:0.696176036483927\n",
    "Test Acc: 0.6800785083415113 F1:0.6806747057134653\n",
    "Test Acc: 0.6790971540726202 F1:0.6840881927904144\n",
    "Test Acc: 0.7026496565260059 F1:0.7023332960666812\n",
    "Test Acc: 0.7016683022571149 F1:0.7023609649227192\n",
    "Test Acc: 0.7016683022571149 F1:0.7007514103557813\n",
    "Test Acc: 0.7016683022571149 F1:0.7007514103557813\n",
    "Test Acc: 0.7055937193326791 F1:0.7070311268727595\n",
    "Test Acc: 0.7055937193326791 F1:0.7070311268727595\n",
    "Test Acc: 0.6957801766437685 F1:0.6956294134521569\n",
    "Test Acc: 0.6957801766437685 F1:0.6956294134521569\"\"\"\n",
    "\n",
    "f1_vals = [[float(word.split(':')[1]) for word in line.split() if word.startswith('F1:')] for line in vast_res.split('\\n')[0::2]]\n",
    "print(np.mean(f1_vals))\n",
    "print(np.std(f1_vals))"
   ]
  }
 ],
 "metadata": {
  "kernelspec": {
   "display_name": "Python 3",
   "language": "python",
   "name": "python3"
  },
  "language_info": {
   "codemirror_mode": {
    "name": "ipython",
    "version": 2
   },
   "file_extension": ".py",
   "mimetype": "text/x-python",
   "name": "python",
   "nbconvert_exporter": "python",
   "pygments_lexer": "ipython2",
   "version": "2.7.6"
  }
 },
 "nbformat": 4,
 "nbformat_minor": 0
}
